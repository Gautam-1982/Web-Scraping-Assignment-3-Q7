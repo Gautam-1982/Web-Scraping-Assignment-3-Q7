{
 "cells": [
  {
   "cell_type": "code",
   "execution_count": 45,
   "metadata": {},
   "outputs": [],
   "source": [
    "from bs4 import BeautifulSoup\n",
    "import selenium\n",
    "from selenium import webdriver\n",
    "import time\n",
    "import requests\n",
    "import pandas as pd\n"
   ]
  },
  {
   "cell_type": "code",
   "execution_count": 2,
   "metadata": {},
   "outputs": [],
   "source": [
    "driver = webdriver.Chrome(executable_path=\"D:\\\\chromedriver_win32\\\\chromedriver.exe\")"
   ]
  },
  {
   "cell_type": "code",
   "execution_count": 3,
   "metadata": {},
   "outputs": [],
   "source": [
    "url = \"https://www.digit.in/top-products/best-gaming-laptops-40.html\""
   ]
  },
  {
   "cell_type": "code",
   "execution_count": 4,
   "metadata": {},
   "outputs": [],
   "source": [
    "driver.get(url)"
   ]
  },
  {
   "cell_type": "code",
   "execution_count": 5,
   "metadata": {},
   "outputs": [
    {
     "data": {
      "text/plain": [
       "[<selenium.webdriver.remote.webelement.WebElement (session=\"c0230bc3d23aee5043550bd90213b63b\", element=\"c5229ed1-d01b-49a2-bb18-5188941920fb\")>,\n",
       " <selenium.webdriver.remote.webelement.WebElement (session=\"c0230bc3d23aee5043550bd90213b63b\", element=\"bd098737-9e25-4c64-a9f6-60c9affba66b\")>,\n",
       " <selenium.webdriver.remote.webelement.WebElement (session=\"c0230bc3d23aee5043550bd90213b63b\", element=\"6012bcd0-3e47-4475-8b00-05ec0f60e670\")>]"
      ]
     },
     "execution_count": 5,
     "metadata": {},
     "output_type": "execute_result"
    }
   ],
   "source": [
    "seller = driver.find_elements_by_class_name(\"smmerchant\")\n",
    "seller[0:3]"
   ]
  },
  {
   "cell_type": "code",
   "execution_count": 6,
   "metadata": {},
   "outputs": [
    {
     "data": {
      "text/plain": [
       "['N/A',\n",
       " 'amazon',\n",
       " 'Tatacliq',\n",
       " 'amazon',\n",
       " 'flipkart',\n",
       " 'flipkart',\n",
       " 'flipkart',\n",
       " 'N/A',\n",
       " 'amazon',\n",
       " 'amazon']"
      ]
     },
     "execution_count": 6,
     "metadata": {},
     "output_type": "execute_result"
    }
   ],
   "source": [
    "Seller=[]\n",
    "for i in seller:\n",
    "    sellers=i.text.replace(\"\\n\",\" \")\n",
    "    Seller.append(sellers)\n",
    "Seller"
   ]
  },
  {
   "cell_type": "code",
   "execution_count": 40,
   "metadata": {},
   "outputs": [
    {
     "data": {
      "text/plain": [
       "[<selenium.webdriver.remote.webelement.WebElement (session=\"c0230bc3d23aee5043550bd90213b63b\", element=\"8e743c4d-ae8f-452c-822b-1aa1da1da6ce\")>,\n",
       " <selenium.webdriver.remote.webelement.WebElement (session=\"c0230bc3d23aee5043550bd90213b63b\", element=\"eb5feabe-e580-427e-96fe-83ccd1c96623\")>,\n",
       " <selenium.webdriver.remote.webelement.WebElement (session=\"c0230bc3d23aee5043550bd90213b63b\", element=\"3d801c2a-2b8e-46f2-9743-bab026f7ed2d\")>]"
      ]
     },
     "execution_count": 40,
     "metadata": {},
     "output_type": "execute_result"
    }
   ],
   "source": [
    "laptop = driver.find_elements_by_xpath(\"//div[@class='right-container']/div/a/h3\")\n",
    "laptop[0:3]"
   ]
  },
  {
   "cell_type": "code",
   "execution_count": 41,
   "metadata": {},
   "outputs": [
    {
     "data": {
      "text/plain": [
       "['MSI GT76 TITAN DT 9SG',\n",
       " 'ALIENWARE 17 AREA-51M',\n",
       " 'HP OMEN 15 2020',\n",
       " 'ASUS ZEPHYRUS G14',\n",
       " 'LENOVO LEGION Y540',\n",
       " 'ASUS ROG ZEPHYRUS G GA502',\n",
       " 'ASUS ROG ZEPHYRUS S GX531',\n",
       " 'MSI GT83VR 7RE TITAN SLI',\n",
       " 'ASUS ROG ZEPHYRUS DUO 15',\n",
       " 'DELL G3']"
      ]
     },
     "execution_count": 41,
     "metadata": {},
     "output_type": "execute_result"
    }
   ],
   "source": [
    "Laptop_name=[]\n",
    "for i in laptop:\n",
    "    laptop_=i.text.replace(\"\\n\",\" \")\n",
    "    Laptop_name.append(laptop_)\n",
    "Laptop_name"
   ]
  },
  {
   "cell_type": "code",
   "execution_count": 7,
   "metadata": {},
   "outputs": [
    {
     "data": {
      "text/plain": [
       "[<selenium.webdriver.remote.webelement.WebElement (session=\"c0230bc3d23aee5043550bd90213b63b\", element=\"ce5d806c-215b-4e33-b7b0-6d2fc2d36255\")>,\n",
       " <selenium.webdriver.remote.webelement.WebElement (session=\"c0230bc3d23aee5043550bd90213b63b\", element=\"96f79261-4589-43c5-8023-be585c4b3616\")>,\n",
       " <selenium.webdriver.remote.webelement.WebElement (session=\"c0230bc3d23aee5043550bd90213b63b\", element=\"d4d0e935-1789-4029-a0f2-5f74f8d76e5e\")>]"
      ]
     },
     "execution_count": 7,
     "metadata": {},
     "output_type": "execute_result"
    }
   ],
   "source": [
    "price = driver.find_elements_by_class_name(\"smprice\")\n",
    "price[0:3]"
   ]
  },
  {
   "cell_type": "code",
   "execution_count": 8,
   "metadata": {},
   "outputs": [
    {
     "data": {
      "text/plain": [
       "['₹379990',\n",
       " '₹422000',\n",
       " '₹117790',\n",
       " '₹164990',\n",
       " '₹79990',\n",
       " '₹79990',\n",
       " '₹239990',\n",
       " '₹349990',\n",
       " '₹244990',\n",
       " '₹61990']"
      ]
     },
     "execution_count": 8,
     "metadata": {},
     "output_type": "execute_result"
    }
   ],
   "source": [
    "PRICE=[]\n",
    "for i in price:\n",
    "    prices=i.text.replace(\"\\n\",\" \")\n",
    "    PRICE.append(prices)\n",
    "PRICE"
   ]
  },
  {
   "cell_type": "code",
   "execution_count": 9,
   "metadata": {},
   "outputs": [
    {
     "data": {
      "text/plain": [
       "[<selenium.webdriver.remote.webelement.WebElement (session=\"c0230bc3d23aee5043550bd90213b63b\", element=\"f23a909a-10df-4c41-825c-01ae6a8cdd6b\")>,\n",
       " <selenium.webdriver.remote.webelement.WebElement (session=\"c0230bc3d23aee5043550bd90213b63b\", element=\"5085739a-b7dd-4c1d-998c-0dc1b07f4089\")>,\n",
       " <selenium.webdriver.remote.webelement.WebElement (session=\"c0230bc3d23aee5043550bd90213b63b\", element=\"a483339b-4ea7-4995-85f9-f5761308cb44\")>]"
      ]
     },
     "execution_count": 9,
     "metadata": {},
     "output_type": "execute_result"
    }
   ],
   "source": [
    "os = driver.find_elements_by_xpath(\"//*[contains(text(), 'OS')]\")\n",
    "os[0:3]"
   ]
  },
  {
   "cell_type": "code",
   "execution_count": 10,
   "metadata": {},
   "outputs": [
    {
     "data": {
      "text/plain": [
       "['',\n",
       " 'OS WINDOWS 10 PRO',\n",
       " 'OS',\n",
       " 'OS WINDOWS 10 PRO',\n",
       " 'OS',\n",
       " 'OS WINDOWS 10 HOME',\n",
       " 'OS',\n",
       " 'OS WINDOWS 10 HOME',\n",
       " 'OS',\n",
       " 'OS WINDOWS 10 HOME',\n",
       " 'OS',\n",
       " 'OS WINDOWS 10 HOME',\n",
       " 'OS',\n",
       " 'OS WINDOWS 10 HOME',\n",
       " 'OS',\n",
       " 'OS WINDOWS 10 HOME 64 BIT',\n",
       " 'OS',\n",
       " 'OS WINDOWS 10',\n",
       " 'OS',\n",
       " 'OS WINDOWS 10 HOME PLUS',\n",
       " 'OS']"
      ]
     },
     "execution_count": 10,
     "metadata": {},
     "output_type": "execute_result"
    }
   ],
   "source": [
    "OS=[]\n",
    "for i in os:\n",
    "    os1=i.text.replace(\"\\n\",\" \")\n",
    "    OS.append(os1)\n",
    "OS"
   ]
  },
  {
   "cell_type": "code",
   "execution_count": 11,
   "metadata": {},
   "outputs": [
    {
     "data": {
      "text/plain": [
       "['WINDOWS 10 PRO',\n",
       " 'WINDOWS 10 PRO',\n",
       " 'WINDOWS 10 HOME',\n",
       " 'WINDOWS 10 HOME',\n",
       " 'WINDOWS 10 HOME',\n",
       " 'WINDOWS 10 HOME',\n",
       " 'WINDOWS 10 HOME',\n",
       " 'WINDOWS 10 HOME 64 BIT',\n",
       " 'WINDOWS 10',\n",
       " 'WINDOWS 10 HOME PLUS']"
      ]
     },
     "execution_count": 11,
     "metadata": {},
     "output_type": "execute_result"
    }
   ],
   "source": [
    "OS1 = OS[1::2]\n",
    "OS1\n",
    "Operating_system = list(map(lambda x: x.replace('OS ',''),OS1))\n",
    "Operating_system"
   ]
  },
  {
   "cell_type": "code",
   "execution_count": 12,
   "metadata": {},
   "outputs": [
    {
     "data": {
      "text/plain": [
       "[<selenium.webdriver.remote.webelement.WebElement (session=\"c0230bc3d23aee5043550bd90213b63b\", element=\"de82b768-8867-49e6-add9-2894cdb0f69e\")>,\n",
       " <selenium.webdriver.remote.webelement.WebElement (session=\"c0230bc3d23aee5043550bd90213b63b\", element=\"2436c079-2b36-4fbd-9f2c-334daf29c572\")>,\n",
       " <selenium.webdriver.remote.webelement.WebElement (session=\"c0230bc3d23aee5043550bd90213b63b\", element=\"fb03086c-9ea3-458d-a445-2f8b6ba1caf2\")>]"
      ]
     },
     "execution_count": 12,
     "metadata": {},
     "output_type": "execute_result"
    }
   ],
   "source": [
    "display = driver.find_elements_by_xpath(\"//*[contains(text(), 'Display')]\")\n",
    "display[0:3]"
   ]
  },
  {
   "cell_type": "code",
   "execution_count": 23,
   "metadata": {},
   "outputs": [
    {
     "data": {
      "text/plain": [
       "['DISPLAY 17.3\" (UHD 3840X2160)',\n",
       " 'Display',\n",
       " 'DISPLAY 17.3\" (FHD (1920 X 1080))',\n",
       " 'Display',\n",
       " 'DISPLAY 15.6\" (1920 X 1080)',\n",
       " 'Display',\n",
       " 'DISPLAY 14\" (1920 X 1080)',\n",
       " 'Display',\n",
       " 'DISPLAY 15.6\" (1920 X 1080)',\n",
       " 'Display',\n",
       " 'DISPLAY 15.6\" (1920 X 1080)',\n",
       " 'Display could use more colour',\n",
       " 'Display',\n",
       " 'DISPLAY 15.6\" (1920 X 1080)',\n",
       " 'Display',\n",
       " 'DISPLAY 18.4\" (1920 X 1080)',\n",
       " 'Display',\n",
       " 'DISPLAY 15.6\" (3840 X 1100)',\n",
       " 'Display',\n",
       " 'DISPLAY 15.6 MP | NA',\n",
       " 'Display',\n",
       " '']"
      ]
     },
     "execution_count": 23,
     "metadata": {},
     "output_type": "execute_result"
    }
   ],
   "source": [
    "Display=[]\n",
    "for i in display:\n",
    "    display_=i.text.replace(\"\\n\",\" \")\n",
    "    Display.append(display_)\n",
    "Display"
   ]
  },
  {
   "cell_type": "code",
   "execution_count": 24,
   "metadata": {},
   "outputs": [
    {
     "data": {
      "text/plain": [
       "['DISPLAY 17.3\" (UHD 3840X2160)',\n",
       " 'DISPLAY 17.3\" (FHD (1920 X 1080))',\n",
       " 'DISPLAY 15.6\" (1920 X 1080)',\n",
       " 'DISPLAY 14\" (1920 X 1080)',\n",
       " 'DISPLAY 15.6\" (1920 X 1080)',\n",
       " 'DISPLAY 15.6\" (1920 X 1080)',\n",
       " 'DISPLAY 15.6\" (1920 X 1080)',\n",
       " 'DISPLAY 18.4\" (1920 X 1080)',\n",
       " 'DISPLAY 15.6\" (3840 X 1100)',\n",
       " 'DISPLAY 15.6 MP | NA']"
      ]
     },
     "execution_count": 24,
     "metadata": {},
     "output_type": "execute_result"
    }
   ],
   "source": [
    "num = 1,3,5,7,9,11,12,14,16,18,20,21\n",
    "Display= [i for j, i in enumerate(Display) if j not in num]\n",
    "Display"
   ]
  },
  {
   "cell_type": "code",
   "execution_count": 25,
   "metadata": {},
   "outputs": [
    {
     "data": {
      "text/plain": [
       "['17.3\" (UHD 3840X2160)',\n",
       " '17.3\" (FHD (1920 X 1080))',\n",
       " '15.6\" (1920 X 1080)',\n",
       " '14\" (1920 X 1080)',\n",
       " '15.6\" (1920 X 1080)',\n",
       " '15.6\" (1920 X 1080)',\n",
       " '15.6\" (1920 X 1080)',\n",
       " '18.4\" (1920 X 1080)',\n",
       " '15.6\" (3840 X 1100)',\n",
       " '15.6 MP | NA']"
      ]
     },
     "execution_count": 25,
     "metadata": {},
     "output_type": "execute_result"
    }
   ],
   "source": [
    "Display = list(map(lambda x: x.replace('DISPLAY ',''),Display))\n",
    "Display"
   ]
  },
  {
   "cell_type": "code",
   "execution_count": 26,
   "metadata": {},
   "outputs": [
    {
     "data": {
      "text/plain": [
       "[<selenium.webdriver.remote.webelement.WebElement (session=\"c0230bc3d23aee5043550bd90213b63b\", element=\"1dbb38e9-00ed-4a64-a086-74cfaf52c244\")>,\n",
       " <selenium.webdriver.remote.webelement.WebElement (session=\"c0230bc3d23aee5043550bd90213b63b\", element=\"28437429-1344-4100-9c80-c767c1bdce54\")>,\n",
       " <selenium.webdriver.remote.webelement.WebElement (session=\"c0230bc3d23aee5043550bd90213b63b\", element=\"dbc419fc-1b73-435d-9b20-e70340d7e2e3\")>]"
      ]
     },
     "execution_count": 26,
     "metadata": {},
     "output_type": "execute_result"
    }
   ],
   "source": [
    "processor = driver.find_elements_by_xpath(\"//*[contains(text(), 'Processor')]\")\n",
    "processor[0:3]"
   ]
  },
  {
   "cell_type": "code",
   "execution_count": 18,
   "metadata": {},
   "outputs": [
    {
     "data": {
      "text/plain": [
       "['PROCESSOR INTEL 9TH GEN CORE I9-9900K | 5000 MHZ',\n",
       " 'Processor',\n",
       " 'Graphics Processor',\n",
       " 'PROCESSOR INTEL 9TH GEN CORE I9-9900K | 5000 MHZ',\n",
       " 'Processor',\n",
       " 'Graphics Processor',\n",
       " 'PROCESSOR INTEL I7-10750H 10TH GEN | 1.6GHZ',\n",
       " 'Processor',\n",
       " 'Graphics Processor',\n",
       " 'PROCESSOR AMD 3RD GENERATION RYZEN 9 | 3.3 GHZ',\n",
       " 'Processor',\n",
       " 'Graphics Processor',\n",
       " 'PROCESSOR 9TH GENERATION CORE INTEL I7-9750H | 2.6 GHZ',\n",
       " 'Processor',\n",
       " 'Graphics Processor',\n",
       " 'PROCESSOR AMD RYZEN 7 QUAD CORE 3750H | 2.3 GHZ',\n",
       " 'Processor',\n",
       " 'Graphics Processor',\n",
       " 'PROCESSOR 9TH GEN INTEL CORE I7-8750H | 2.2 GHZ',\n",
       " 'Processor',\n",
       " 'Graphics Processor',\n",
       " 'PROCESSOR INTEL CM238 CORE I7-7820HK+CM238 7TH GEN | 3.5GHZ',\n",
       " 'Processor',\n",
       " 'Graphics Processor',\n",
       " 'PROCESSOR INTEL CORE I7 10TH GEN 10875H | NA',\n",
       " 'Processor',\n",
       " 'Graphics Processor',\n",
       " 'PROCESSOR 8TH GEN INTEL CORE I5-8300H | 2.3GHZ',\n",
       " 'Processor',\n",
       " 'Graphics Processor',\n",
       " 'Best Laptops with Intel Core i5 Processor']"
      ]
     },
     "execution_count": 18,
     "metadata": {},
     "output_type": "execute_result"
    }
   ],
   "source": [
    "Processor=[]\n",
    "for i in processor:\n",
    "    processor_=i.text.replace(\"\\n\",\" \")\n",
    "    Processor.append(processor_)\n",
    "Processor"
   ]
  },
  {
   "cell_type": "code",
   "execution_count": 27,
   "metadata": {},
   "outputs": [
    {
     "data": {
      "text/plain": [
       "['PROCESSOR INTEL 9TH GEN CORE I9-9900K | 5000 MHZ',\n",
       " 'PROCESSOR INTEL 9TH GEN CORE I9-9900K | 5000 MHZ',\n",
       " 'PROCESSOR INTEL I7-10750H 10TH GEN | 1.6GHZ',\n",
       " 'PROCESSOR AMD 3RD GENERATION RYZEN 9 | 3.3 GHZ',\n",
       " 'PROCESSOR 9TH GENERATION CORE INTEL I7-9750H | 2.6 GHZ',\n",
       " 'PROCESSOR AMD RYZEN 7 QUAD CORE 3750H | 2.3 GHZ',\n",
       " 'PROCESSOR 9TH GEN INTEL CORE I7-8750H | 2.2 GHZ',\n",
       " 'PROCESSOR INTEL CM238 CORE I7-7820HK+CM238 7TH GEN | 3.5GHZ',\n",
       " 'PROCESSOR INTEL CORE I7 10TH GEN 10875H | NA',\n",
       " 'PROCESSOR 8TH GEN INTEL CORE I5-8300H | 2.3GHZ']"
      ]
     },
     "execution_count": 27,
     "metadata": {},
     "output_type": "execute_result"
    }
   ],
   "source": [
    "num1=[0,3,6,9,12,15,18,21,24,27]\n",
    "Processor = [ Processor[index] for index in num1 ]\n",
    "Processor"
   ]
  },
  {
   "cell_type": "code",
   "execution_count": 28,
   "metadata": {},
   "outputs": [
    {
     "data": {
      "text/plain": [
       "['INTEL 9TH GEN CORE I9-9900K | 5000 MHZ',\n",
       " 'INTEL 9TH GEN CORE I9-9900K | 5000 MHZ',\n",
       " 'INTEL I7-10750H 10TH GEN | 1.6GHZ',\n",
       " 'AMD 3RD GENERATION RYZEN 9 | 3.3 GHZ',\n",
       " '9TH GENERATION CORE INTEL I7-9750H | 2.6 GHZ',\n",
       " 'AMD RYZEN 7 QUAD CORE 3750H | 2.3 GHZ',\n",
       " '9TH GEN INTEL CORE I7-8750H | 2.2 GHZ',\n",
       " 'INTEL CM238 CORE I7-7820HK+CM238 7TH GEN | 3.5GHZ',\n",
       " 'INTEL CORE I7 10TH GEN 10875H | NA',\n",
       " '8TH GEN INTEL CORE I5-8300H | 2.3GHZ']"
      ]
     },
     "execution_count": 28,
     "metadata": {},
     "output_type": "execute_result"
    }
   ],
   "source": [
    "Processor = list(map(lambda x: x.replace('PROCESSOR ',''),Processor))\n",
    "Processor"
   ]
  },
  {
   "cell_type": "code",
   "execution_count": 29,
   "metadata": {},
   "outputs": [
    {
     "data": {
      "text/plain": [
       "[<selenium.webdriver.remote.webelement.WebElement (session=\"c0230bc3d23aee5043550bd90213b63b\", element=\"5b6fec4f-d685-453b-9aa3-8035006a3805\")>,\n",
       " <selenium.webdriver.remote.webelement.WebElement (session=\"c0230bc3d23aee5043550bd90213b63b\", element=\"f9208db2-6b58-4698-887a-300b4a4748ed\")>,\n",
       " <selenium.webdriver.remote.webelement.WebElement (session=\"c0230bc3d23aee5043550bd90213b63b\", element=\"738cb68d-95e5-401d-80ff-b6a71f9ec915\")>]"
      ]
     },
     "execution_count": 29,
     "metadata": {},
     "output_type": "execute_result"
    }
   ],
   "source": [
    "memory = driver.find_elements_by_xpath(\"//*[contains(text(), 'Memory')]\")\n",
    "memory[0:3]"
   ]
  },
  {
   "cell_type": "code",
   "execution_count": 30,
   "metadata": {},
   "outputs": [
    {
     "data": {
      "text/plain": [
       "['MEMORY 1 TB HDD/64 GBGB DDR4',\n",
       " 'Memory',\n",
       " 'MEMORY 1 TB PCIE SSD/32GB DDR4',\n",
       " 'Memory',\n",
       " 'MEMORY 512 GB SSD/16 GBGB DDR4',\n",
       " 'Memory',\n",
       " 'MEMORY 1 TB SSD/16 GBGB DDR4',\n",
       " 'Memory',\n",
       " 'MEMORY 1 TB SSD/8GB DDR4',\n",
       " 'Memory',\n",
       " 'MEMORY 512 GB SSD/16GB DDR4',\n",
       " 'Memory',\n",
       " 'MEMORY 512GB SSD/16 GBGB DDR4',\n",
       " 'Memory',\n",
       " 'MEMORY 1.5 TB SATA/64GB DDR4',\n",
       " 'Memory',\n",
       " 'MEMORY 512 GB SSD/4 GBGB DDR4',\n",
       " 'Memory',\n",
       " 'MEMORY 1TB HDD/8GB DDR4',\n",
       " 'Memory']"
      ]
     },
     "execution_count": 30,
     "metadata": {},
     "output_type": "execute_result"
    }
   ],
   "source": [
    "Memory=[]\n",
    "for i in memory:\n",
    "    memory_=i.text.replace(\"\\n\",\" \")\n",
    "    Memory.append(memory_)\n",
    "Memory"
   ]
  },
  {
   "cell_type": "code",
   "execution_count": 31,
   "metadata": {},
   "outputs": [
    {
     "data": {
      "text/plain": [
       "['MEMORY 1 TB HDD/64 GBGB DDR4',\n",
       " 'MEMORY 1 TB PCIE SSD/32GB DDR4',\n",
       " 'MEMORY 512 GB SSD/16 GBGB DDR4',\n",
       " 'MEMORY 1 TB SSD/16 GBGB DDR4',\n",
       " 'MEMORY 1 TB SSD/8GB DDR4',\n",
       " 'MEMORY 512 GB SSD/16GB DDR4',\n",
       " 'MEMORY 512GB SSD/16 GBGB DDR4',\n",
       " 'MEMORY 1.5 TB SATA/64GB DDR4',\n",
       " 'MEMORY 512 GB SSD/4 GBGB DDR4',\n",
       " 'MEMORY 1TB HDD/8GB DDR4']"
      ]
     },
     "execution_count": 31,
     "metadata": {},
     "output_type": "execute_result"
    }
   ],
   "source": [
    "num2=[0,2,4,6,8,10,12,14,16,18]\n",
    "Memory = [ Memory[index] for index in num2 ]\n",
    "Memory"
   ]
  },
  {
   "cell_type": "code",
   "execution_count": 32,
   "metadata": {},
   "outputs": [
    {
     "data": {
      "text/plain": [
       "['1 TB HDD/64 GBGB DDR4',\n",
       " '1 TB PCIE SSD/32GB DDR4',\n",
       " '512 GB SSD/16 GBGB DDR4',\n",
       " '1 TB SSD/16 GBGB DDR4',\n",
       " '1 TB SSD/8GB DDR4',\n",
       " '512 GB SSD/16GB DDR4',\n",
       " '512GB SSD/16 GBGB DDR4',\n",
       " '1.5 TB SATA/64GB DDR4',\n",
       " '512 GB SSD/4 GBGB DDR4',\n",
       " '1TB HDD/8GB DDR4']"
      ]
     },
     "execution_count": 32,
     "metadata": {},
     "output_type": "execute_result"
    }
   ],
   "source": [
    "Memory = list(map(lambda x: x.replace('MEMORY ',''),Memory))\n",
    "Memory"
   ]
  },
  {
   "cell_type": "code",
   "execution_count": 33,
   "metadata": {},
   "outputs": [
    {
     "data": {
      "text/plain": [
       "[<selenium.webdriver.remote.webelement.WebElement (session=\"c0230bc3d23aee5043550bd90213b63b\", element=\"3fd81d09-f79a-43f7-bc4f-97f51d78138a\")>,\n",
       " <selenium.webdriver.remote.webelement.WebElement (session=\"c0230bc3d23aee5043550bd90213b63b\", element=\"db4ff1c7-08e1-407a-8b0e-d20e0a33c785\")>,\n",
       " <selenium.webdriver.remote.webelement.WebElement (session=\"c0230bc3d23aee5043550bd90213b63b\", element=\"5dd150d3-90d2-46ad-ad16-91ebb11461fb\")>]"
      ]
     },
     "execution_count": 33,
     "metadata": {},
     "output_type": "execute_result"
    }
   ],
   "source": [
    "weight = driver.find_elements_by_xpath(\"//div[@class='Spcs-details']/table/tbody/tr[7]/td[3]\")\n",
    "weight[0:3]"
   ]
  },
  {
   "cell_type": "code",
   "execution_count": 34,
   "metadata": {},
   "outputs": [
    {
     "data": {
      "text/plain": [
       "['4.2 kg',\n",
       " '3.87 Kg',\n",
       " '5.40',\n",
       " '1.65',\n",
       " '2.3',\n",
       " '2.2',\n",
       " '2.1',\n",
       " '5.5',\n",
       " '2.4',\n",
       " '2.53']"
      ]
     },
     "execution_count": 34,
     "metadata": {},
     "output_type": "execute_result"
    }
   ],
   "source": [
    "Weight=[]\n",
    "for i in weight:\n",
    "    weight_=i.text.replace(\"\\n\",\" \")\n",
    "    Weight.append(weight_)\n",
    "Weight"
   ]
  },
  {
   "cell_type": "code",
   "execution_count": 35,
   "metadata": {},
   "outputs": [
    {
     "data": {
      "text/plain": [
       "[<selenium.webdriver.remote.webelement.WebElement (session=\"c0230bc3d23aee5043550bd90213b63b\", element=\"e0d3638d-d17a-4584-905e-ae2f4d95d888\")>,\n",
       " <selenium.webdriver.remote.webelement.WebElement (session=\"c0230bc3d23aee5043550bd90213b63b\", element=\"6be48fa3-7458-4917-a872-e94446e64134\")>,\n",
       " <selenium.webdriver.remote.webelement.WebElement (session=\"c0230bc3d23aee5043550bd90213b63b\", element=\"c313ef4a-c1f9-4d18-98c1-6a1ad30bf212\")>]"
      ]
     },
     "execution_count": 35,
     "metadata": {},
     "output_type": "execute_result"
    }
   ],
   "source": [
    "graphics = driver.find_elements_by_xpath(\"//*[contains(text(), 'TX')]\")\n",
    "graphics[0:3]"
   ]
  },
  {
   "cell_type": "code",
   "execution_count": 36,
   "metadata": {},
   "outputs": [
    {
     "data": {
      "text/plain": [
       "['',\n",
       " 'Sporting a desktop graphics Intel Core i9-9900K coupled with an RTX 2080, the MSI GT76 TITAN 9SG has the same configuration as the Alienware Area-51m. Both machines use massive power bricks which when plugged in trigger an automatic factory overclock of 32-33% for the processors. Even the graphics cards are the same RTX 2080 but MSI has a slightly higher base clock of 1575 MHz whereas the Alienware unit has that set to 1515 MHz. Boost clocks are also different with the MSI unit clocked at 1755 MHz and the Alienware at 1720 MHz. So performance wise, these two are nearly similar until you consider the next two important things in a computer, the RAM and the SSD boot drives. MSI’s gaming laptop has RAM clocked at 2666 MHz and uses two NVMe SSDs in RAID 0 for the boot drive.',\n",
       " 'NVIDIA GeForce RTX 2080',\n",
       " 'The Alienware Area-51m was certainly the first of its kind to have the desktop grade Intel Core i9-9900K coupled with NVIDIA’s RTX 2080. However, as time goes by competitors brought similar configurations with slightly improved features. When powered on, the Area-51m automatically sets the processor to a 32% overclock which helps out with some video games and a lot more in high-compute tasks. The built-in Control Centre has made it even simpler to push the processor clocks higher should you need it.',\n",
       " 'NVIDIA GeForce RTX 2080',\n",
       " 'The new HP Omen 15 comes in both 10th generation Intel core and AMD Ryzen 4000 flavours. The company offers the choice of high refresh rate displays going up to 144Hz and also GPU options going up to an Nvidia GeForce RTX 2070 Super Max-Q. You also get a significantly improved thermals management system that actually manages to keep the laptop super cool even under heavy loads.',\n",
       " 'Nvidia GTX 1650Ti feels a little out of place in this config.',\n",
       " 'Nvidia GeForce GTX 1650Ti',\n",
       " 'The Asus Zephyrus G14 is a first-of-its-kind gaming laptop, featuring a high-power 8-core CPU in a 14-inch chassis. Powered by the AMD Ryzen 4000 series processors going all the way up to Ryzen 9 4900HS and an Nvidia GeForce RTX 2060, the AMD Zephyrus G14 is a perfect laptop for those kind of people who like to game and create, but put a priority on doing so using a light-weight machine.',\n",
       " 'NVIDIA GeForce RTX 2060',\n",
       " 'The Lenovo Legion Y540 is powered by an Intel Core i7-9750H, 16GB of RAM and an Nvidia GeForce RTX 2060 with 6GB of video RAM. The laptop also comes with up to a 1TB Samsung PCIe NVMe solid-state drive, and users looking to expand storage get the option of adding a 2.5-inch hard drive. The display is an IPS pane with a 144Hz refresh rate, but the real highlight of the Legion Y540, besides its performance, is its stealth looks that allows the laptop to blend into an office environment as easily as it would into a LAN party.',\n",
       " 'NVIDIA® GeForce RTX™ 2060',\n",
       " 'The Ryzen 7 3750H powered Asus ROG Zephyrus G is a budget-friendly gaming laptop that offers just enough fire power to get you into the world of PC gaming. The Nvidia GeForce GTX 1660Ti takes care of all your gaming needs, driving the 120Hz IPS panel with relative ease',\n",
       " 'NVIDIA Geforce GTX 1660 Ti',\n",
       " 'NVIDIA® GeForce RTX™ 2070 (Max-Q)',\n",
       " \"MSI does not have a dual GTX 1080 gaming laptop. Instead, it has the next best thing for roughly half the price of the two flagships. The GT83VR 7RE Titan SLI packs two GTX 1070 GPUs in SLI along with the Intel Core i7 7820HK. It also has a massive 18.4-inch IPS display and 32 GB of RAM. Performance wise it isn't that far behind since games can hardly make use of all the firepower it has, but synthetic benchmarks put it way behind the two flagships mentioned here.\",\n",
       " 'Dual GTX1070',\n",
       " 'The machine is powered by an Intel Core i7-10875H processor, offering 8 cores and 16 threads. So, you can leave behind all your concerns around the CPU bottlenecking the overall performance during gaming. With an Nvidia GeForce RTX 2070 Max-Q, this laptop can manage pretty much anything game you throw at it and then some more. The star of the show however is the awesome 300Hz refresh rate capable, 1080p IPS panel on this gaming laptop. Yes, you read that correctly, 300Hz, which means you can get silky smooth, brag-worthy 300FPS on e-sports centric games on this machine.',\n",
       " 'NVIDIA GeForce RTX 2070 Max-Q',\n",
       " \"The Dell G3 is a capable entry-level gaming laptop in an Inspiron's clothes. It has a 9th-gen Intel Core i5 CPU, up to 8GB of RAM, and an NVIDIA GeForce GTX 1650 with 4GB of GDDR5 video RAM. For storage, it's got a 512GB PCIe NVMe SSD. It plays games like Doom on high graphics settings at 60fps without any stutters.\",\n",
       " 'NVidia GeForce GTX 1050']"
      ]
     },
     "execution_count": 36,
     "metadata": {},
     "output_type": "execute_result"
    }
   ],
   "source": [
    "Graphics=[]\n",
    "for i in graphics:\n",
    "    graphics_=i.text.replace(\"\\n\",\" \")\n",
    "    Graphics.append(graphics_)\n",
    "Graphics"
   ]
  },
  {
   "cell_type": "code",
   "execution_count": 37,
   "metadata": {},
   "outputs": [
    {
     "data": {
      "text/plain": [
       "['NVIDIA GeForce RTX 2080',\n",
       " 'NVIDIA GeForce RTX 2080',\n",
       " 'Nvidia GeForce GTX 1650Ti',\n",
       " 'NVIDIA GeForce RTX 2060',\n",
       " 'NVIDIA® GeForce RTX™ 2060',\n",
       " 'NVIDIA Geforce GTX 1660 Ti',\n",
       " 'NVIDIA® GeForce RTX™ 2070 (Max-Q)',\n",
       " 'Dual GTX1070',\n",
       " 'NVIDIA GeForce RTX 2070 Max-Q',\n",
       " 'NVidia GeForce GTX 1050']"
      ]
     },
     "execution_count": 37,
     "metadata": {},
     "output_type": "execute_result"
    }
   ],
   "source": [
    "num3=[2,4,7,9,11,13,14,16,18,20]\n",
    "Graphics = [ Graphics[index] for index in num3 ]\n",
    "Graphics"
   ]
  },
  {
   "cell_type": "code",
   "execution_count": 38,
   "metadata": {},
   "outputs": [
    {
     "data": {
      "text/plain": [
       "[<selenium.webdriver.remote.webelement.WebElement (session=\"c0230bc3d23aee5043550bd90213b63b\", element=\"6be48fa3-7458-4917-a872-e94446e64134\")>,\n",
       " <selenium.webdriver.remote.webelement.WebElement (session=\"c0230bc3d23aee5043550bd90213b63b\", element=\"d0ef1268-08bc-4309-92e7-d561250aadc3\")>,\n",
       " <selenium.webdriver.remote.webelement.WebElement (session=\"c0230bc3d23aee5043550bd90213b63b\", element=\"4e5c1469-4b97-4ab0-9a03-033266202f93\")>]"
      ]
     },
     "execution_count": 38,
     "metadata": {},
     "output_type": "execute_result"
    }
   ],
   "source": [
    "description = driver.find_elements_by_xpath(\"//div[@class='Section-center']/p\")\n",
    "description[0:3]"
   ]
  },
  {
   "cell_type": "code",
   "execution_count": 39,
   "metadata": {},
   "outputs": [
    {
     "data": {
      "text/plain": [
       "['Sporting a desktop graphics Intel Core i9-9900K coupled with an RTX 2080, the MSI GT76 TITAN 9SG has the same configuration as the Alienware Area-51m. Both machines use massive power bricks which when plugged in trigger an automatic factory overclock of 32-33% for the processors. Even the graphics cards are the same RTX 2080 but MSI has a slightly higher base clock of 1575 MHz whereas the Alienware unit has that set to 1515 MHz. Boost clocks are also different with the MSI unit clocked at 1755 MHz and the Alienware at 1720 MHz. So performance wise, these two are nearly similar until you consider the next two important things in a computer, the RAM and the SSD boot drives. MSI’s gaming laptop has RAM clocked at 2666 MHz and uses two NVMe SSDs in RAID 0 for the boot drive.',\n",
       " 'The Alienware Area-51m was certainly the first of its kind to have the desktop grade Intel Core i9-9900K coupled with NVIDIA’s RTX 2080. However, as time goes by competitors brought similar configurations with slightly improved features. When powered on, the Area-51m automatically sets the processor to a 32% overclock which helps out with some video games and a lot more in high-compute tasks. The built-in Control Centre has made it even simpler to push the processor clocks higher should you need it.',\n",
       " 'The new HP Omen 15 comes in both 10th generation Intel core and AMD Ryzen 4000 flavours. The company offers the choice of high refresh rate displays going up to 144Hz and also GPU options going up to an Nvidia GeForce RTX 2070 Super Max-Q. You also get a significantly improved thermals management system that actually manages to keep the laptop super cool even under heavy loads.',\n",
       " 'The Asus Zephyrus G14 is a first-of-its-kind gaming laptop, featuring a high-power 8-core CPU in a 14-inch chassis. Powered by the AMD Ryzen 4000 series processors going all the way up to Ryzen 9 4900HS and an Nvidia GeForce RTX 2060, the AMD Zephyrus G14 is a perfect laptop for those kind of people who like to game and create, but put a priority on doing so using a light-weight machine.',\n",
       " 'The Lenovo Legion Y540 is powered by an Intel Core i7-9750H, 16GB of RAM and an Nvidia GeForce RTX 2060 with 6GB of video RAM. The laptop also comes with up to a 1TB Samsung PCIe NVMe solid-state drive, and users looking to expand storage get the option of adding a 2.5-inch hard drive. The display is an IPS pane with a 144Hz refresh rate, but the real highlight of the Legion Y540, besides its performance, is its stealth looks that allows the laptop to blend into an office environment as easily as it would into a LAN party.',\n",
       " 'The Ryzen 7 3750H powered Asus ROG Zephyrus G is a budget-friendly gaming laptop that offers just enough fire power to get you into the world of PC gaming. The Nvidia GeForce GTX 1660Ti takes care of all your gaming needs, driving the 120Hz IPS panel with relative ease',\n",
       " 'The Asus Zephyrus S (GX531) manages to get a few things very right. It packs a very powerful set of components into a slim chassis, ideal for those who like to carry their gaming or editing machines around. The Pantone validated 144Hz display is great right out of the box. the keyboard will take plenty of getting used to, but the trackpad is definitely a strong point. All this aside, the GX531 is also a pretty great gaming machine.',\n",
       " \"MSI does not have a dual GTX 1080 gaming laptop. Instead, it has the next best thing for roughly half the price of the two flagships. The GT83VR 7RE Titan SLI packs two GTX 1070 GPUs in SLI along with the Intel Core i7 7820HK. It also has a massive 18.4-inch IPS display and 32 GB of RAM. Performance wise it isn't that far behind since games can hardly make use of all the firepower it has, but synthetic benchmarks put it way behind the two flagships mentioned here.\",\n",
       " 'The machine is powered by an Intel Core i7-10875H processor, offering 8 cores and 16 threads. So, you can leave behind all your concerns around the CPU bottlenecking the overall performance during gaming. With an Nvidia GeForce RTX 2070 Max-Q, this laptop can manage pretty much anything game you throw at it and then some more. The star of the show however is the awesome 300Hz refresh rate capable, 1080p IPS panel on this gaming laptop. Yes, you read that correctly, 300Hz, which means you can get silky smooth, brag-worthy 300FPS on e-sports centric games on this machine.',\n",
       " \"The Dell G3 is a capable entry-level gaming laptop in an Inspiron's clothes. It has a 9th-gen Intel Core i5 CPU, up to 8GB of RAM, and an NVIDIA GeForce GTX 1650 with 4GB of GDDR5 video RAM. For storage, it's got a 512GB PCIe NVMe SSD. It plays games like Doom on high graphics settings at 60fps without any stutters.\"]"
      ]
     },
     "execution_count": 39,
     "metadata": {},
     "output_type": "execute_result"
    }
   ],
   "source": [
    "Description=[]\n",
    "for i in description:\n",
    "    description_=i.text.replace(\"\\n\",\" \")\n",
    "    Description.append(description_)\n",
    "Description"
   ]
  },
  {
   "cell_type": "code",
   "execution_count": 49,
   "metadata": {},
   "outputs": [
    {
     "name": "stdout",
     "output_type": "stream",
     "text": [
      "10 10 10 10 10 10 10 10 10 10\n"
     ]
    }
   ],
   "source": [
    "print(len(Seller),len(Laptop_name),len(PRICE),len(Operating_system),len(Display),len(Processor),len(Memory),len(Weight),len(Graphics),len(Description))"
   ]
  },
  {
   "cell_type": "code",
   "execution_count": 52,
   "metadata": {},
   "outputs": [],
   "source": [
    "Top10_Laptops=pd.DataFrame({})\n",
    "Top10_Laptops['Seller']=Seller\n",
    "Top10_Laptops['Laptop_name']=Laptop_name\n",
    "Top10_Laptops['Price']=PRICE\n",
    "Top10_Laptops['Operating_system']=Operating_system\n",
    "Top10_Laptops['Display']=Display\n",
    "Top10_Laptops['Processor']=Processor\n",
    "Top10_Laptops['Memory']=Memory\n",
    "Top10_Laptops['Weight']=Weight\n",
    "Top10_Laptops['Graphics']=Graphics\n",
    "Top10_Laptops['Description']=Description"
   ]
  },
  {
   "cell_type": "code",
   "execution_count": 53,
   "metadata": {},
   "outputs": [
    {
     "data": {
      "text/html": [
       "<div>\n",
       "<style scoped>\n",
       "    .dataframe tbody tr th:only-of-type {\n",
       "        vertical-align: middle;\n",
       "    }\n",
       "\n",
       "    .dataframe tbody tr th {\n",
       "        vertical-align: top;\n",
       "    }\n",
       "\n",
       "    .dataframe thead th {\n",
       "        text-align: right;\n",
       "    }\n",
       "</style>\n",
       "<table border=\"1\" class=\"dataframe\">\n",
       "  <thead>\n",
       "    <tr style=\"text-align: right;\">\n",
       "      <th></th>\n",
       "      <th>Seller</th>\n",
       "      <th>Laptop_name</th>\n",
       "      <th>Price</th>\n",
       "      <th>Operating_system</th>\n",
       "      <th>Display</th>\n",
       "      <th>Processor</th>\n",
       "      <th>Memory</th>\n",
       "      <th>Weight</th>\n",
       "      <th>Graphics</th>\n",
       "      <th>Description</th>\n",
       "    </tr>\n",
       "  </thead>\n",
       "  <tbody>\n",
       "    <tr>\n",
       "      <th>0</th>\n",
       "      <td>N/A</td>\n",
       "      <td>MSI GT76 TITAN DT 9SG</td>\n",
       "      <td>₹379990</td>\n",
       "      <td>WINDOWS 10 PRO</td>\n",
       "      <td>17.3\" (UHD 3840X2160)</td>\n",
       "      <td>INTEL 9TH GEN CORE I9-9900K | 5000 MHZ</td>\n",
       "      <td>1 TB HDD/64 GBGB DDR4</td>\n",
       "      <td>4.2 kg</td>\n",
       "      <td>NVIDIA GeForce RTX 2080</td>\n",
       "      <td>Sporting a desktop graphics Intel Core i9-9900...</td>\n",
       "    </tr>\n",
       "    <tr>\n",
       "      <th>1</th>\n",
       "      <td>amazon</td>\n",
       "      <td>ALIENWARE 17 AREA-51M</td>\n",
       "      <td>₹422000</td>\n",
       "      <td>WINDOWS 10 PRO</td>\n",
       "      <td>17.3\" (FHD (1920 X 1080))</td>\n",
       "      <td>INTEL 9TH GEN CORE I9-9900K | 5000 MHZ</td>\n",
       "      <td>1 TB PCIE SSD/32GB DDR4</td>\n",
       "      <td>3.87 Kg</td>\n",
       "      <td>NVIDIA GeForce RTX 2080</td>\n",
       "      <td>The Alienware Area-51m was certainly the first...</td>\n",
       "    </tr>\n",
       "    <tr>\n",
       "      <th>2</th>\n",
       "      <td>Tatacliq</td>\n",
       "      <td>HP OMEN 15 2020</td>\n",
       "      <td>₹117790</td>\n",
       "      <td>WINDOWS 10 HOME</td>\n",
       "      <td>15.6\" (1920 X 1080)</td>\n",
       "      <td>INTEL I7-10750H 10TH GEN | 1.6GHZ</td>\n",
       "      <td>512 GB SSD/16 GBGB DDR4</td>\n",
       "      <td>5.40</td>\n",
       "      <td>Nvidia GeForce GTX 1650Ti</td>\n",
       "      <td>The new HP Omen 15 comes in both 10th generati...</td>\n",
       "    </tr>\n",
       "    <tr>\n",
       "      <th>3</th>\n",
       "      <td>amazon</td>\n",
       "      <td>ASUS ZEPHYRUS G14</td>\n",
       "      <td>₹164990</td>\n",
       "      <td>WINDOWS 10 HOME</td>\n",
       "      <td>14\" (1920 X 1080)</td>\n",
       "      <td>AMD 3RD GENERATION RYZEN 9 | 3.3 GHZ</td>\n",
       "      <td>1 TB SSD/16 GBGB DDR4</td>\n",
       "      <td>1.65</td>\n",
       "      <td>NVIDIA GeForce RTX 2060</td>\n",
       "      <td>The Asus Zephyrus G14 is a first-of-its-kind g...</td>\n",
       "    </tr>\n",
       "    <tr>\n",
       "      <th>4</th>\n",
       "      <td>flipkart</td>\n",
       "      <td>LENOVO LEGION Y540</td>\n",
       "      <td>₹79990</td>\n",
       "      <td>WINDOWS 10 HOME</td>\n",
       "      <td>15.6\" (1920 X 1080)</td>\n",
       "      <td>9TH GENERATION CORE INTEL I7-9750H | 2.6 GHZ</td>\n",
       "      <td>1 TB SSD/8GB DDR4</td>\n",
       "      <td>2.3</td>\n",
       "      <td>NVIDIA® GeForce RTX™ 2060</td>\n",
       "      <td>The Lenovo Legion Y540 is powered by an Intel ...</td>\n",
       "    </tr>\n",
       "    <tr>\n",
       "      <th>5</th>\n",
       "      <td>flipkart</td>\n",
       "      <td>ASUS ROG ZEPHYRUS G GA502</td>\n",
       "      <td>₹79990</td>\n",
       "      <td>WINDOWS 10 HOME</td>\n",
       "      <td>15.6\" (1920 X 1080)</td>\n",
       "      <td>AMD RYZEN 7 QUAD CORE 3750H | 2.3 GHZ</td>\n",
       "      <td>512 GB SSD/16GB DDR4</td>\n",
       "      <td>2.2</td>\n",
       "      <td>NVIDIA Geforce GTX 1660 Ti</td>\n",
       "      <td>The Ryzen 7 3750H powered Asus ROG Zephyrus G ...</td>\n",
       "    </tr>\n",
       "    <tr>\n",
       "      <th>6</th>\n",
       "      <td>flipkart</td>\n",
       "      <td>ASUS ROG ZEPHYRUS S GX531</td>\n",
       "      <td>₹239990</td>\n",
       "      <td>WINDOWS 10 HOME</td>\n",
       "      <td>15.6\" (1920 X 1080)</td>\n",
       "      <td>9TH GEN INTEL CORE I7-8750H | 2.2 GHZ</td>\n",
       "      <td>512GB SSD/16 GBGB DDR4</td>\n",
       "      <td>2.1</td>\n",
       "      <td>NVIDIA® GeForce RTX™ 2070 (Max-Q)</td>\n",
       "      <td>The Asus Zephyrus S (GX531) manages to get a f...</td>\n",
       "    </tr>\n",
       "    <tr>\n",
       "      <th>7</th>\n",
       "      <td>N/A</td>\n",
       "      <td>MSI GT83VR 7RE TITAN SLI</td>\n",
       "      <td>₹349990</td>\n",
       "      <td>WINDOWS 10 HOME 64 BIT</td>\n",
       "      <td>18.4\" (1920 X 1080)</td>\n",
       "      <td>INTEL CM238 CORE I7-7820HK+CM238 7TH GEN | 3.5GHZ</td>\n",
       "      <td>1.5 TB SATA/64GB DDR4</td>\n",
       "      <td>5.5</td>\n",
       "      <td>Dual GTX1070</td>\n",
       "      <td>MSI does not have a dual GTX 1080 gaming lapto...</td>\n",
       "    </tr>\n",
       "    <tr>\n",
       "      <th>8</th>\n",
       "      <td>amazon</td>\n",
       "      <td>ASUS ROG ZEPHYRUS DUO 15</td>\n",
       "      <td>₹244990</td>\n",
       "      <td>WINDOWS 10</td>\n",
       "      <td>15.6\" (3840 X 1100)</td>\n",
       "      <td>INTEL CORE I7 10TH GEN 10875H | NA</td>\n",
       "      <td>512 GB SSD/4 GBGB DDR4</td>\n",
       "      <td>2.4</td>\n",
       "      <td>NVIDIA GeForce RTX 2070 Max-Q</td>\n",
       "      <td>The machine is powered by an Intel Core i7-108...</td>\n",
       "    </tr>\n",
       "    <tr>\n",
       "      <th>9</th>\n",
       "      <td>amazon</td>\n",
       "      <td>DELL G3</td>\n",
       "      <td>₹61990</td>\n",
       "      <td>WINDOWS 10 HOME PLUS</td>\n",
       "      <td>15.6 MP | NA</td>\n",
       "      <td>8TH GEN INTEL CORE I5-8300H | 2.3GHZ</td>\n",
       "      <td>1TB HDD/8GB DDR4</td>\n",
       "      <td>2.53</td>\n",
       "      <td>NVidia GeForce GTX 1050</td>\n",
       "      <td>The Dell G3 is a capable entry-level gaming la...</td>\n",
       "    </tr>\n",
       "  </tbody>\n",
       "</table>\n",
       "</div>"
      ],
      "text/plain": [
       "     Seller                Laptop_name    Price        Operating_system  \\\n",
       "0       N/A      MSI GT76 TITAN DT 9SG  ₹379990          WINDOWS 10 PRO   \n",
       "1    amazon      ALIENWARE 17 AREA-51M  ₹422000          WINDOWS 10 PRO   \n",
       "2  Tatacliq            HP OMEN 15 2020  ₹117790         WINDOWS 10 HOME   \n",
       "3    amazon          ASUS ZEPHYRUS G14  ₹164990         WINDOWS 10 HOME   \n",
       "4  flipkart         LENOVO LEGION Y540   ₹79990         WINDOWS 10 HOME   \n",
       "5  flipkart  ASUS ROG ZEPHYRUS G GA502   ₹79990         WINDOWS 10 HOME   \n",
       "6  flipkart  ASUS ROG ZEPHYRUS S GX531  ₹239990         WINDOWS 10 HOME   \n",
       "7       N/A   MSI GT83VR 7RE TITAN SLI  ₹349990  WINDOWS 10 HOME 64 BIT   \n",
       "8    amazon   ASUS ROG ZEPHYRUS DUO 15  ₹244990              WINDOWS 10   \n",
       "9    amazon                    DELL G3   ₹61990    WINDOWS 10 HOME PLUS   \n",
       "\n",
       "                     Display  \\\n",
       "0      17.3\" (UHD 3840X2160)   \n",
       "1  17.3\" (FHD (1920 X 1080))   \n",
       "2        15.6\" (1920 X 1080)   \n",
       "3          14\" (1920 X 1080)   \n",
       "4        15.6\" (1920 X 1080)   \n",
       "5        15.6\" (1920 X 1080)   \n",
       "6        15.6\" (1920 X 1080)   \n",
       "7        18.4\" (1920 X 1080)   \n",
       "8        15.6\" (3840 X 1100)   \n",
       "9               15.6 MP | NA   \n",
       "\n",
       "                                           Processor                   Memory  \\\n",
       "0             INTEL 9TH GEN CORE I9-9900K | 5000 MHZ    1 TB HDD/64 GBGB DDR4   \n",
       "1             INTEL 9TH GEN CORE I9-9900K | 5000 MHZ  1 TB PCIE SSD/32GB DDR4   \n",
       "2                  INTEL I7-10750H 10TH GEN | 1.6GHZ  512 GB SSD/16 GBGB DDR4   \n",
       "3               AMD 3RD GENERATION RYZEN 9 | 3.3 GHZ    1 TB SSD/16 GBGB DDR4   \n",
       "4       9TH GENERATION CORE INTEL I7-9750H | 2.6 GHZ        1 TB SSD/8GB DDR4   \n",
       "5              AMD RYZEN 7 QUAD CORE 3750H | 2.3 GHZ     512 GB SSD/16GB DDR4   \n",
       "6              9TH GEN INTEL CORE I7-8750H | 2.2 GHZ   512GB SSD/16 GBGB DDR4   \n",
       "7  INTEL CM238 CORE I7-7820HK+CM238 7TH GEN | 3.5GHZ    1.5 TB SATA/64GB DDR4   \n",
       "8                 INTEL CORE I7 10TH GEN 10875H | NA   512 GB SSD/4 GBGB DDR4   \n",
       "9               8TH GEN INTEL CORE I5-8300H | 2.3GHZ         1TB HDD/8GB DDR4   \n",
       "\n",
       "    Weight                           Graphics  \\\n",
       "0   4.2 kg            NVIDIA GeForce RTX 2080   \n",
       "1  3.87 Kg            NVIDIA GeForce RTX 2080   \n",
       "2     5.40          Nvidia GeForce GTX 1650Ti   \n",
       "3     1.65            NVIDIA GeForce RTX 2060   \n",
       "4      2.3          NVIDIA® GeForce RTX™ 2060   \n",
       "5      2.2         NVIDIA Geforce GTX 1660 Ti   \n",
       "6      2.1  NVIDIA® GeForce RTX™ 2070 (Max-Q)   \n",
       "7      5.5                       Dual GTX1070   \n",
       "8      2.4      NVIDIA GeForce RTX 2070 Max-Q   \n",
       "9     2.53            NVidia GeForce GTX 1050   \n",
       "\n",
       "                                         Description  \n",
       "0  Sporting a desktop graphics Intel Core i9-9900...  \n",
       "1  The Alienware Area-51m was certainly the first...  \n",
       "2  The new HP Omen 15 comes in both 10th generati...  \n",
       "3  The Asus Zephyrus G14 is a first-of-its-kind g...  \n",
       "4  The Lenovo Legion Y540 is powered by an Intel ...  \n",
       "5  The Ryzen 7 3750H powered Asus ROG Zephyrus G ...  \n",
       "6  The Asus Zephyrus S (GX531) manages to get a f...  \n",
       "7  MSI does not have a dual GTX 1080 gaming lapto...  \n",
       "8  The machine is powered by an Intel Core i7-108...  \n",
       "9  The Dell G3 is a capable entry-level gaming la...  "
      ]
     },
     "execution_count": 53,
     "metadata": {},
     "output_type": "execute_result"
    }
   ],
   "source": [
    "Top10_Laptops"
   ]
  },
  {
   "cell_type": "code",
   "execution_count": 54,
   "metadata": {},
   "outputs": [],
   "source": [
    "Top10_Laptops.to_csv(\"Top10_Laptops.csv\")"
   ]
  },
  {
   "cell_type": "code",
   "execution_count": 55,
   "metadata": {},
   "outputs": [],
   "source": [
    "driver.close()"
   ]
  },
  {
   "cell_type": "code",
   "execution_count": null,
   "metadata": {},
   "outputs": [],
   "source": []
  }
 ],
 "metadata": {
  "kernelspec": {
   "display_name": "Python 3",
   "language": "python",
   "name": "python3"
  },
  "language_info": {
   "codemirror_mode": {
    "name": "ipython",
    "version": 3
   },
   "file_extension": ".py",
   "mimetype": "text/x-python",
   "name": "python",
   "nbconvert_exporter": "python",
   "pygments_lexer": "ipython3",
   "version": "3.8.3"
  }
 },
 "nbformat": 4,
 "nbformat_minor": 4
}
